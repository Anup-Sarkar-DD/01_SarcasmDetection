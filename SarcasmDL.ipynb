{
  "nbformat": 4,
  "nbformat_minor": 0,
  "metadata": {
    "colab": {
      "provenance": []
    },
    "kernelspec": {
      "name": "python3",
      "display_name": "Python 3"
    },
    "language_info": {
      "name": "python"
    }
  },
  "cells": [
    {
      "cell_type": "code",
      "source": [
        "import pandas as pd\n",
        "import numpy as np\n",
        "import matplotlib.pyplot as plt\n",
        "import seaborn as sns\n",
        "import tensorflow as tf\n",
        "import requests\n",
        "import re\n",
        "import string\n",
        "\n",
        "from io import StringIO\n",
        "from sklearn.model_selection import train_test_split\n",
        "from tensorflow.keras.preprocessing.text import Tokenizer\n",
        "from tensorflow.keras.preprocessing.sequence import pad_sequences\n",
        "from tensorflow.keras.models import Sequential\n",
        "from tensorflow.keras.layers import Embedding, GlobalAveragePooling1D, Dense\n",
        "\n",
        "import warnings\n",
        "warnings.filterwarnings('ignore')"
      ],
      "metadata": {
        "id": "g1Y-W03v3f2J"
      },
      "execution_count": 1,
      "outputs": []
    },
    {
      "cell_type": "code",
      "source": [
        "# Set pandas option to display the full content of all columns, preventing truncation.\n",
        "pd.set_option('display.max_colwidth', None)"
      ],
      "metadata": {
        "id": "zi1zi5u232dZ"
      },
      "execution_count": 2,
      "outputs": []
    },
    {
      "cell_type": "code",
      "source": [
        "# Load Sarcasm Dataset\n",
        "url = \"https://storage.googleapis.com/learning-datasets/sarcasm.json\"\n",
        "response = requests.get(url)\n",
        "df = pd.read_json(StringIO(response.text))\n",
        "print(\"Dataset loaded successfully!\")\n",
        "\n",
        "print(df.head())"
      ],
      "metadata": {
        "colab": {
          "base_uri": "https://localhost:8080/"
        },
        "id": "QKV_kggr3-T9",
        "outputId": "a0240b3d-38b9-412a-bb36-b98b80c7236d"
      },
      "execution_count": 7,
      "outputs": [
        {
          "output_type": "stream",
          "name": "stdout",
          "text": [
            "Dataset loaded successfully!\n",
            "                                                                                              article_link  \\\n",
            "0                      https://www.huffingtonpost.com/entry/versace-black-code_us_5861fbefe4b0de3a08f600d5   \n",
            "1                 https://www.huffingtonpost.com/entry/roseanne-revival-review_us_5ab3a497e4b054d118e04365   \n",
            "2            https://local.theonion.com/mom-starting-to-fear-son-s-web-series-closest-thing-she-1819576697   \n",
            "3          https://politics.theonion.com/boehner-just-wants-wife-to-listen-not-come-up-with-alt-1819574302   \n",
            "4  https://www.huffingtonpost.com/entry/jk-rowling-wishes-snape-happy-birthday_us_569117c4e4b0cad15e64fdcb   \n",
            "\n",
            "                                                                               headline  \\\n",
            "0        former versace store clerk sues over secret 'black code' for minority shoppers   \n",
            "1  the 'roseanne' revival catches up to our thorny political mood, for better and worse   \n",
            "2       mom starting to fear son's web series closest thing she will have to grandchild   \n",
            "3  boehner just wants wife to listen, not come up with alternative debt-reduction ideas   \n",
            "4                      j.k. rowling wishes snape happy birthday in the most magical way   \n",
            "\n",
            "   is_sarcastic  \n",
            "0             0  \n",
            "1             0  \n",
            "2             1  \n",
            "3             1  \n",
            "4             0  \n"
          ]
        }
      ]
    },
    {
      "cell_type": "code",
      "source": [
        "result = df[df['is_sarcastic'] == 1]\n",
        "result"
      ],
      "metadata": {
        "colab": {
          "base_uri": "https://localhost:8080/",
          "height": 423
        },
        "id": "jkX1849D9n8l",
        "outputId": "2e6916a1-24f3-4733-8f1f-598b39b23d5a"
      },
      "execution_count": 28,
      "outputs": [
        {
          "output_type": "execute_result",
          "data": {
            "text/plain": [
              "                                                                                       headline  \\\n",
              "2               mom starting to fear son's web series closest thing she will have to grandchild   \n",
              "3          boehner just wants wife to listen, not come up with alternative debt-reduction ideas   \n",
              "8                                            top snake handler leaves sinking huckabee campaign   \n",
              "15                             nuclear bomb detonates during rehearsal for 'spider-man' musical   \n",
              "16     cosby lawyer asks why accusers didn't come forward to be smeared by legal team years ago   \n",
              "...                                                                                         ...   \n",
              "26693                                   new bailiff tired of hearing how old bailiff did things   \n",
              "26694                              breaking: 'the onion' in kill range of boston bomber suspect   \n",
              "26695                seaworld crowd applauds for dolphin playfully spraying blood from blowhole   \n",
              "26702                  pentagon to withhold budget figures out of respect for american families   \n",
              "26703                               pope francis wearing sweater vestments he got for christmas   \n",
              "\n",
              "       is_sarcastic  \n",
              "2                 1  \n",
              "3                 1  \n",
              "8                 1  \n",
              "15                1  \n",
              "16                1  \n",
              "...             ...  \n",
              "26693             1  \n",
              "26694             1  \n",
              "26695             1  \n",
              "26702             1  \n",
              "26703             1  \n",
              "\n",
              "[11724 rows x 2 columns]"
            ],
            "text/html": [
              "\n",
              "  <div id=\"df-977f9c05-165e-4ad9-8e8b-b8c5c1848a0d\" class=\"colab-df-container\">\n",
              "    <div>\n",
              "<style scoped>\n",
              "    .dataframe tbody tr th:only-of-type {\n",
              "        vertical-align: middle;\n",
              "    }\n",
              "\n",
              "    .dataframe tbody tr th {\n",
              "        vertical-align: top;\n",
              "    }\n",
              "\n",
              "    .dataframe thead th {\n",
              "        text-align: right;\n",
              "    }\n",
              "</style>\n",
              "<table border=\"1\" class=\"dataframe\">\n",
              "  <thead>\n",
              "    <tr style=\"text-align: right;\">\n",
              "      <th></th>\n",
              "      <th>headline</th>\n",
              "      <th>is_sarcastic</th>\n",
              "    </tr>\n",
              "  </thead>\n",
              "  <tbody>\n",
              "    <tr>\n",
              "      <th>2</th>\n",
              "      <td>mom starting to fear son's web series closest thing she will have to grandchild</td>\n",
              "      <td>1</td>\n",
              "    </tr>\n",
              "    <tr>\n",
              "      <th>3</th>\n",
              "      <td>boehner just wants wife to listen, not come up with alternative debt-reduction ideas</td>\n",
              "      <td>1</td>\n",
              "    </tr>\n",
              "    <tr>\n",
              "      <th>8</th>\n",
              "      <td>top snake handler leaves sinking huckabee campaign</td>\n",
              "      <td>1</td>\n",
              "    </tr>\n",
              "    <tr>\n",
              "      <th>15</th>\n",
              "      <td>nuclear bomb detonates during rehearsal for 'spider-man' musical</td>\n",
              "      <td>1</td>\n",
              "    </tr>\n",
              "    <tr>\n",
              "      <th>16</th>\n",
              "      <td>cosby lawyer asks why accusers didn't come forward to be smeared by legal team years ago</td>\n",
              "      <td>1</td>\n",
              "    </tr>\n",
              "    <tr>\n",
              "      <th>...</th>\n",
              "      <td>...</td>\n",
              "      <td>...</td>\n",
              "    </tr>\n",
              "    <tr>\n",
              "      <th>26693</th>\n",
              "      <td>new bailiff tired of hearing how old bailiff did things</td>\n",
              "      <td>1</td>\n",
              "    </tr>\n",
              "    <tr>\n",
              "      <th>26694</th>\n",
              "      <td>breaking: 'the onion' in kill range of boston bomber suspect</td>\n",
              "      <td>1</td>\n",
              "    </tr>\n",
              "    <tr>\n",
              "      <th>26695</th>\n",
              "      <td>seaworld crowd applauds for dolphin playfully spraying blood from blowhole</td>\n",
              "      <td>1</td>\n",
              "    </tr>\n",
              "    <tr>\n",
              "      <th>26702</th>\n",
              "      <td>pentagon to withhold budget figures out of respect for american families</td>\n",
              "      <td>1</td>\n",
              "    </tr>\n",
              "    <tr>\n",
              "      <th>26703</th>\n",
              "      <td>pope francis wearing sweater vestments he got for christmas</td>\n",
              "      <td>1</td>\n",
              "    </tr>\n",
              "  </tbody>\n",
              "</table>\n",
              "<p>11724 rows × 2 columns</p>\n",
              "</div>\n",
              "    <div class=\"colab-df-buttons\">\n",
              "\n",
              "  <div class=\"colab-df-container\">\n",
              "    <button class=\"colab-df-convert\" onclick=\"convertToInteractive('df-977f9c05-165e-4ad9-8e8b-b8c5c1848a0d')\"\n",
              "            title=\"Convert this dataframe to an interactive table.\"\n",
              "            style=\"display:none;\">\n",
              "\n",
              "  <svg xmlns=\"http://www.w3.org/2000/svg\" height=\"24px\" viewBox=\"0 -960 960 960\">\n",
              "    <path d=\"M120-120v-720h720v720H120Zm60-500h600v-160H180v160Zm220 220h160v-160H400v160Zm0 220h160v-160H400v160ZM180-400h160v-160H180v160Zm440 0h160v-160H620v160ZM180-180h160v-160H180v160Zm440 0h160v-160H620v160Z\"/>\n",
              "  </svg>\n",
              "    </button>\n",
              "\n",
              "  <style>\n",
              "    .colab-df-container {\n",
              "      display:flex;\n",
              "      gap: 12px;\n",
              "    }\n",
              "\n",
              "    .colab-df-convert {\n",
              "      background-color: #E8F0FE;\n",
              "      border: none;\n",
              "      border-radius: 50%;\n",
              "      cursor: pointer;\n",
              "      display: none;\n",
              "      fill: #1967D2;\n",
              "      height: 32px;\n",
              "      padding: 0 0 0 0;\n",
              "      width: 32px;\n",
              "    }\n",
              "\n",
              "    .colab-df-convert:hover {\n",
              "      background-color: #E2EBFA;\n",
              "      box-shadow: 0px 1px 2px rgba(60, 64, 67, 0.3), 0px 1px 3px 1px rgba(60, 64, 67, 0.15);\n",
              "      fill: #174EA6;\n",
              "    }\n",
              "\n",
              "    .colab-df-buttons div {\n",
              "      margin-bottom: 4px;\n",
              "    }\n",
              "\n",
              "    [theme=dark] .colab-df-convert {\n",
              "      background-color: #3B4455;\n",
              "      fill: #D2E3FC;\n",
              "    }\n",
              "\n",
              "    [theme=dark] .colab-df-convert:hover {\n",
              "      background-color: #434B5C;\n",
              "      box-shadow: 0px 1px 3px 1px rgba(0, 0, 0, 0.15);\n",
              "      filter: drop-shadow(0px 1px 2px rgba(0, 0, 0, 0.3));\n",
              "      fill: #FFFFFF;\n",
              "    }\n",
              "  </style>\n",
              "\n",
              "    <script>\n",
              "      const buttonEl =\n",
              "        document.querySelector('#df-977f9c05-165e-4ad9-8e8b-b8c5c1848a0d button.colab-df-convert');\n",
              "      buttonEl.style.display =\n",
              "        google.colab.kernel.accessAllowed ? 'block' : 'none';\n",
              "\n",
              "      async function convertToInteractive(key) {\n",
              "        const element = document.querySelector('#df-977f9c05-165e-4ad9-8e8b-b8c5c1848a0d');\n",
              "        const dataTable =\n",
              "          await google.colab.kernel.invokeFunction('convertToInteractive',\n",
              "                                                    [key], {});\n",
              "        if (!dataTable) return;\n",
              "\n",
              "        const docLinkHtml = 'Like what you see? Visit the ' +\n",
              "          '<a target=\"_blank\" href=https://colab.research.google.com/notebooks/data_table.ipynb>data table notebook</a>'\n",
              "          + ' to learn more about interactive tables.';\n",
              "        element.innerHTML = '';\n",
              "        dataTable['output_type'] = 'display_data';\n",
              "        await google.colab.output.renderOutput(dataTable, element);\n",
              "        const docLink = document.createElement('div');\n",
              "        docLink.innerHTML = docLinkHtml;\n",
              "        element.appendChild(docLink);\n",
              "      }\n",
              "    </script>\n",
              "  </div>\n",
              "\n",
              "\n",
              "    <div id=\"df-bdfe76bb-51c4-4cca-82cd-04e2a1189012\">\n",
              "      <button class=\"colab-df-quickchart\" onclick=\"quickchart('df-bdfe76bb-51c4-4cca-82cd-04e2a1189012')\"\n",
              "                title=\"Suggest charts\"\n",
              "                style=\"display:none;\">\n",
              "\n",
              "<svg xmlns=\"http://www.w3.org/2000/svg\" height=\"24px\"viewBox=\"0 0 24 24\"\n",
              "     width=\"24px\">\n",
              "    <g>\n",
              "        <path d=\"M19 3H5c-1.1 0-2 .9-2 2v14c0 1.1.9 2 2 2h14c1.1 0 2-.9 2-2V5c0-1.1-.9-2-2-2zM9 17H7v-7h2v7zm4 0h-2V7h2v10zm4 0h-2v-4h2v4z\"/>\n",
              "    </g>\n",
              "</svg>\n",
              "      </button>\n",
              "\n",
              "<style>\n",
              "  .colab-df-quickchart {\n",
              "      --bg-color: #E8F0FE;\n",
              "      --fill-color: #1967D2;\n",
              "      --hover-bg-color: #E2EBFA;\n",
              "      --hover-fill-color: #174EA6;\n",
              "      --disabled-fill-color: #AAA;\n",
              "      --disabled-bg-color: #DDD;\n",
              "  }\n",
              "\n",
              "  [theme=dark] .colab-df-quickchart {\n",
              "      --bg-color: #3B4455;\n",
              "      --fill-color: #D2E3FC;\n",
              "      --hover-bg-color: #434B5C;\n",
              "      --hover-fill-color: #FFFFFF;\n",
              "      --disabled-bg-color: #3B4455;\n",
              "      --disabled-fill-color: #666;\n",
              "  }\n",
              "\n",
              "  .colab-df-quickchart {\n",
              "    background-color: var(--bg-color);\n",
              "    border: none;\n",
              "    border-radius: 50%;\n",
              "    cursor: pointer;\n",
              "    display: none;\n",
              "    fill: var(--fill-color);\n",
              "    height: 32px;\n",
              "    padding: 0;\n",
              "    width: 32px;\n",
              "  }\n",
              "\n",
              "  .colab-df-quickchart:hover {\n",
              "    background-color: var(--hover-bg-color);\n",
              "    box-shadow: 0 1px 2px rgba(60, 64, 67, 0.3), 0 1px 3px 1px rgba(60, 64, 67, 0.15);\n",
              "    fill: var(--button-hover-fill-color);\n",
              "  }\n",
              "\n",
              "  .colab-df-quickchart-complete:disabled,\n",
              "  .colab-df-quickchart-complete:disabled:hover {\n",
              "    background-color: var(--disabled-bg-color);\n",
              "    fill: var(--disabled-fill-color);\n",
              "    box-shadow: none;\n",
              "  }\n",
              "\n",
              "  .colab-df-spinner {\n",
              "    border: 2px solid var(--fill-color);\n",
              "    border-color: transparent;\n",
              "    border-bottom-color: var(--fill-color);\n",
              "    animation:\n",
              "      spin 1s steps(1) infinite;\n",
              "  }\n",
              "\n",
              "  @keyframes spin {\n",
              "    0% {\n",
              "      border-color: transparent;\n",
              "      border-bottom-color: var(--fill-color);\n",
              "      border-left-color: var(--fill-color);\n",
              "    }\n",
              "    20% {\n",
              "      border-color: transparent;\n",
              "      border-left-color: var(--fill-color);\n",
              "      border-top-color: var(--fill-color);\n",
              "    }\n",
              "    30% {\n",
              "      border-color: transparent;\n",
              "      border-left-color: var(--fill-color);\n",
              "      border-top-color: var(--fill-color);\n",
              "      border-right-color: var(--fill-color);\n",
              "    }\n",
              "    40% {\n",
              "      border-color: transparent;\n",
              "      border-right-color: var(--fill-color);\n",
              "      border-top-color: var(--fill-color);\n",
              "    }\n",
              "    60% {\n",
              "      border-color: transparent;\n",
              "      border-right-color: var(--fill-color);\n",
              "    }\n",
              "    80% {\n",
              "      border-color: transparent;\n",
              "      border-right-color: var(--fill-color);\n",
              "      border-bottom-color: var(--fill-color);\n",
              "    }\n",
              "    90% {\n",
              "      border-color: transparent;\n",
              "      border-bottom-color: var(--fill-color);\n",
              "    }\n",
              "  }\n",
              "</style>\n",
              "\n",
              "      <script>\n",
              "        async function quickchart(key) {\n",
              "          const quickchartButtonEl =\n",
              "            document.querySelector('#' + key + ' button');\n",
              "          quickchartButtonEl.disabled = true;  // To prevent multiple clicks.\n",
              "          quickchartButtonEl.classList.add('colab-df-spinner');\n",
              "          try {\n",
              "            const charts = await google.colab.kernel.invokeFunction(\n",
              "                'suggestCharts', [key], {});\n",
              "          } catch (error) {\n",
              "            console.error('Error during call to suggestCharts:', error);\n",
              "          }\n",
              "          quickchartButtonEl.classList.remove('colab-df-spinner');\n",
              "          quickchartButtonEl.classList.add('colab-df-quickchart-complete');\n",
              "        }\n",
              "        (() => {\n",
              "          let quickchartButtonEl =\n",
              "            document.querySelector('#df-bdfe76bb-51c4-4cca-82cd-04e2a1189012 button');\n",
              "          quickchartButtonEl.style.display =\n",
              "            google.colab.kernel.accessAllowed ? 'block' : 'none';\n",
              "        })();\n",
              "      </script>\n",
              "    </div>\n",
              "\n",
              "  <div id=\"id_234f836b-d9c5-4c9f-a979-488deeb8c390\">\n",
              "    <style>\n",
              "      .colab-df-generate {\n",
              "        background-color: #E8F0FE;\n",
              "        border: none;\n",
              "        border-radius: 50%;\n",
              "        cursor: pointer;\n",
              "        display: none;\n",
              "        fill: #1967D2;\n",
              "        height: 32px;\n",
              "        padding: 0 0 0 0;\n",
              "        width: 32px;\n",
              "      }\n",
              "\n",
              "      .colab-df-generate:hover {\n",
              "        background-color: #E2EBFA;\n",
              "        box-shadow: 0px 1px 2px rgba(60, 64, 67, 0.3), 0px 1px 3px 1px rgba(60, 64, 67, 0.15);\n",
              "        fill: #174EA6;\n",
              "      }\n",
              "\n",
              "      [theme=dark] .colab-df-generate {\n",
              "        background-color: #3B4455;\n",
              "        fill: #D2E3FC;\n",
              "      }\n",
              "\n",
              "      [theme=dark] .colab-df-generate:hover {\n",
              "        background-color: #434B5C;\n",
              "        box-shadow: 0px 1px 3px 1px rgba(0, 0, 0, 0.15);\n",
              "        filter: drop-shadow(0px 1px 2px rgba(0, 0, 0, 0.3));\n",
              "        fill: #FFFFFF;\n",
              "      }\n",
              "    </style>\n",
              "    <button class=\"colab-df-generate\" onclick=\"generateWithVariable('result')\"\n",
              "            title=\"Generate code using this dataframe.\"\n",
              "            style=\"display:none;\">\n",
              "\n",
              "  <svg xmlns=\"http://www.w3.org/2000/svg\" height=\"24px\"viewBox=\"0 0 24 24\"\n",
              "       width=\"24px\">\n",
              "    <path d=\"M7,19H8.4L18.45,9,17,7.55,7,17.6ZM5,21V16.75L18.45,3.32a2,2,0,0,1,2.83,0l1.4,1.43a1.91,1.91,0,0,1,.58,1.4,1.91,1.91,0,0,1-.58,1.4L9.25,21ZM18.45,9,17,7.55Zm-12,3A5.31,5.31,0,0,0,4.9,8.1,5.31,5.31,0,0,0,1,6.5,5.31,5.31,0,0,0,4.9,4.9,5.31,5.31,0,0,0,6.5,1,5.31,5.31,0,0,0,8.1,4.9,5.31,5.31,0,0,0,12,6.5,5.46,5.46,0,0,0,6.5,12Z\"/>\n",
              "  </svg>\n",
              "    </button>\n",
              "    <script>\n",
              "      (() => {\n",
              "      const buttonEl =\n",
              "        document.querySelector('#id_234f836b-d9c5-4c9f-a979-488deeb8c390 button.colab-df-generate');\n",
              "      buttonEl.style.display =\n",
              "        google.colab.kernel.accessAllowed ? 'block' : 'none';\n",
              "\n",
              "      buttonEl.onclick = () => {\n",
              "        google.colab.notebook.generateWithVariable('result');\n",
              "      }\n",
              "      })();\n",
              "    </script>\n",
              "  </div>\n",
              "\n",
              "    </div>\n",
              "  </div>\n"
            ],
            "application/vnd.google.colaboratory.intrinsic+json": {
              "type": "dataframe",
              "variable_name": "result",
              "summary": "{\n  \"name\": \"result\",\n  \"rows\": 11724,\n  \"fields\": [\n    {\n      \"column\": \"headline\",\n      \"properties\": {\n        \"dtype\": \"string\",\n        \"num_unique_values\": 11651,\n        \"samples\": [\n          \"guy who died playing 'league of legends' in internet caf\\u00e9 really starting to ruin game for other patrons\",\n          \"governor lashes out against cheap scotch, poorly rolled cigars\",\n          \"local homemaker fights to overcome rubbermaid\\u0099 addiction\"\n        ],\n        \"semantic_type\": \"\",\n        \"description\": \"\"\n      }\n    },\n    {\n      \"column\": \"is_sarcastic\",\n      \"properties\": {\n        \"dtype\": \"number\",\n        \"std\": 0,\n        \"min\": 1,\n        \"max\": 1,\n        \"num_unique_values\": 1,\n        \"samples\": [\n          1\n        ],\n        \"semantic_type\": \"\",\n        \"description\": \"\"\n      }\n    }\n  ]\n}"
            }
          },
          "metadata": {},
          "execution_count": 28
        }
      ]
    },
    {
      "cell_type": "code",
      "source": [
        "df = df.drop('article_link', axis=1)\n",
        "print(df.head())"
      ],
      "metadata": {
        "colab": {
          "base_uri": "https://localhost:8080/"
        },
        "id": "Mxesj-Ma4JSc",
        "outputId": "a05454de-e906-4572-b53e-f4164be131e1"
      },
      "execution_count": 10,
      "outputs": [
        {
          "output_type": "stream",
          "name": "stdout",
          "text": [
            "                                                                               headline  \\\n",
            "0        former versace store clerk sues over secret 'black code' for minority shoppers   \n",
            "1  the 'roseanne' revival catches up to our thorny political mood, for better and worse   \n",
            "2       mom starting to fear son's web series closest thing she will have to grandchild   \n",
            "3  boehner just wants wife to listen, not come up with alternative debt-reduction ideas   \n",
            "4                      j.k. rowling wishes snape happy birthday in the most magical way   \n",
            "\n",
            "   is_sarcastic  \n",
            "0             0  \n",
            "1             0  \n",
            "2             1  \n",
            "3             1  \n",
            "4             0  \n"
          ]
        }
      ]
    },
    {
      "cell_type": "code",
      "source": [
        "df.shape"
      ],
      "metadata": {
        "colab": {
          "base_uri": "https://localhost:8080/"
        },
        "id": "BpQxi55u4oUI",
        "outputId": "eca4d356-2315-4b8b-bd87-c6523679d203"
      },
      "execution_count": 11,
      "outputs": [
        {
          "output_type": "execute_result",
          "data": {
            "text/plain": [
              "(26709, 2)"
            ]
          },
          "metadata": {},
          "execution_count": 11
        }
      ]
    },
    {
      "cell_type": "code",
      "source": [
        "# Define Hyperparameters\n",
        "vocab_size = 10000    # Define the maximum number of unique words to consider in the vocabulary\n",
        "max_length = 100      # Set the maximum length for each sentence\n",
        "oov_tok = \"<OOV>\"     # Specify the token for out-of-vocabulary words\n",
        "trunc_type = 'post'   # Determine where to truncate sequences if they exceed max_length ( 'post' means truncate from the end)\n",
        "padding_type = 'post' # Determine where to add padding if sequences are shorter than max_length ('post' means add padding to the end)\n",
        "embedding_dim = 16    # Set the dimensionality of the word embeddings"
      ],
      "metadata": {
        "id": "Yo4z8LPa4nJC"
      },
      "execution_count": 12,
      "outputs": []
    },
    {
      "cell_type": "code",
      "source": [
        "# Prepare data for splitting\n",
        "sentences = df['headline'].tolist()\n",
        "labels = df['is_sarcastic'].tolist()"
      ],
      "metadata": {
        "id": "1V3gWzwC5Cmb"
      },
      "execution_count": 14,
      "outputs": []
    },
    {
      "cell_type": "code",
      "source": [
        "# Split data into training and testing sets\n",
        "traning_sentence, testing_sentence, traning_labels, testing_labels = train_test_split(\n",
        "    sentences, labels, test_size=0.2, random_state=42, stratify=labels\n",
        ")"
      ],
      "metadata": {
        "id": "kVdZxqJS5I4M"
      },
      "execution_count": 15,
      "outputs": []
    },
    {
      "cell_type": "code",
      "source": [
        "# Tokenization and Padding\n",
        "tokenizer = Tokenizer(num_words=vocab_size, oov_token=oov_tok)\n",
        "tokenizer.fit_on_texts(traning_sentence) # Tokenizer learns vocabulary from training sentences\n",
        "\n",
        "traning_sequences = tokenizer.texts_to_sequences(traning_sentence)\n",
        "testing_sequences = tokenizer.texts_to_sequences(testing_sentence)\n",
        "\n",
        "traning_padded = pad_sequences(traning_sequences, maxlen=max_length, padding=padding_type, truncating=trunc_type)\n",
        "testing_padded = pad_sequences(testing_sequences, maxlen=max_length, padding=padding_type, truncating=trunc_type)\n",
        "\n",
        "print(f\"\\nOriginal sentence example (index 12 from training set): '{traning_sentence[11]}'\")\n",
        "print(f\"Padded sequence example (index 12 from training set): {traning_padded[11]}\")\n"
      ],
      "metadata": {
        "colab": {
          "base_uri": "https://localhost:8080/"
        },
        "id": "ua7Oti005bwd",
        "outputId": "0870e42e-730d-4297-8ebf-cddb90259233"
      },
      "execution_count": 18,
      "outputs": [
        {
          "output_type": "stream",
          "name": "stdout",
          "text": [
            "\n",
            "Original sentence example (index 12 from training set): 'what aziz ansari, and most straight men, don't get about consent.'\n",
            "Padded sequence example (index 12 from training set): [  33 3282 3283    9   95  732  311  185   59   17 5967    0    0    0\n",
            "    0    0    0    0    0    0    0    0    0    0    0    0    0    0\n",
            "    0    0    0    0    0    0    0    0    0    0    0    0    0    0\n",
            "    0    0    0    0    0    0    0    0    0    0    0    0    0    0\n",
            "    0    0    0    0    0    0    0    0    0    0    0    0    0    0\n",
            "    0    0    0    0    0    0    0    0    0    0    0    0    0    0\n",
            "    0    0    0    0    0    0    0    0    0    0    0    0    0    0\n",
            "    0    0]\n"
          ]
        }
      ]
    },
    {
      "cell_type": "code",
      "source": [
        "# Convert to NumPy Arrays\n",
        "traning_padded = np.array(traning_padded)\n",
        "traning_labels = np.array(traning_labels)\n",
        "testing_padded = np.array(testing_padded)\n",
        "testing_labels = np.array(testing_labels)\n",
        "\n",
        "print(\"\\nData prepared for TensorFlow model training!\")\n",
        "print(f\"Shape of traning_padded: {traning_padded.shape}\")\n",
        "print(f\"Shape of traning_labels: {traning_labels.shape}\")\n",
        "print(f\"Shape of testing_padded: {testing_padded.shape}\")\n",
        "print(f\"Shape of testing_labels: {testing_labels.shape}\")"
      ],
      "metadata": {
        "colab": {
          "base_uri": "https://localhost:8080/"
        },
        "id": "i9jX1cDt5nHT",
        "outputId": "e1226fe6-891b-4259-a392-bdaea7517af2"
      },
      "execution_count": 19,
      "outputs": [
        {
          "output_type": "stream",
          "name": "stdout",
          "text": [
            "\n",
            "Data prepared for TensorFlow model training!\n",
            "Shape of traning_padded: (21367, 100)\n",
            "Shape of traning_labels: (21367,)\n",
            "Shape of testing_padded: (5342, 100)\n",
            "Shape of testing_labels: (5342,)\n"
          ]
        }
      ]
    },
    {
      "cell_type": "code",
      "source": [
        "# Define the Model Architecture\n",
        "model = Sequential([\n",
        "    Embedding(vocab_size, embedding_dim, input_length=max_length),\n",
        "    GlobalAveragePooling1D(),\n",
        "    Dense(24, activation='relu'),\n",
        "    Dense(1, activation='sigmoid')\n",
        "])\n",
        "\n",
        "# Explicitly build the model for summary display\n",
        "model.build(input_shape=(None, max_length))\n",
        "\n",
        "# Compile the Model\n",
        "model.compile(loss='binary_crossentropy',\n",
        "              optimizer='adam',\n",
        "              metrics=['accuracy'])\n",
        "\n",
        "# Print Model Summary\n",
        "print(\"\\nModel Summary:\")\n",
        "model.summary()"
      ],
      "metadata": {
        "colab": {
          "base_uri": "https://localhost:8080/",
          "height": 315
        },
        "id": "iy6Fm6SQ7Z3l",
        "outputId": "1931bee4-1094-4953-c39c-6a7291e6532c"
      },
      "execution_count": 22,
      "outputs": [
        {
          "output_type": "stream",
          "name": "stdout",
          "text": [
            "\n",
            "Model Summary:\n"
          ]
        },
        {
          "output_type": "display_data",
          "data": {
            "text/plain": [
              "\u001b[1mModel: \"sequential_1\"\u001b[0m\n"
            ],
            "text/html": [
              "<pre style=\"white-space:pre;overflow-x:auto;line-height:normal;font-family:Menlo,'DejaVu Sans Mono',consolas,'Courier New',monospace\"><span style=\"font-weight: bold\">Model: \"sequential_1\"</span>\n",
              "</pre>\n"
            ]
          },
          "metadata": {}
        },
        {
          "output_type": "display_data",
          "data": {
            "text/plain": [
              "┏━━━━━━━━━━━━━━━━━━━━━━━━━━━━━━━━━┳━━━━━━━━━━━━━━━━━━━━━━━━┳━━━━━━━━━━━━━━━┓\n",
              "┃\u001b[1m \u001b[0m\u001b[1mLayer (type)                   \u001b[0m\u001b[1m \u001b[0m┃\u001b[1m \u001b[0m\u001b[1mOutput Shape          \u001b[0m\u001b[1m \u001b[0m┃\u001b[1m \u001b[0m\u001b[1m      Param #\u001b[0m\u001b[1m \u001b[0m┃\n",
              "┡━━━━━━━━━━━━━━━━━━━━━━━━━━━━━━━━━╇━━━━━━━━━━━━━━━━━━━━━━━━╇━━━━━━━━━━━━━━━┩\n",
              "│ embedding_1 (\u001b[38;5;33mEmbedding\u001b[0m)         │ (\u001b[38;5;45mNone\u001b[0m, \u001b[38;5;34m100\u001b[0m, \u001b[38;5;34m16\u001b[0m)        │       \u001b[38;5;34m160,000\u001b[0m │\n",
              "├─────────────────────────────────┼────────────────────────┼───────────────┤\n",
              "│ global_average_pooling1d_1      │ (\u001b[38;5;45mNone\u001b[0m, \u001b[38;5;34m16\u001b[0m)             │             \u001b[38;5;34m0\u001b[0m │\n",
              "│ (\u001b[38;5;33mGlobalAveragePooling1D\u001b[0m)        │                        │               │\n",
              "├─────────────────────────────────┼────────────────────────┼───────────────┤\n",
              "│ dense_2 (\u001b[38;5;33mDense\u001b[0m)                 │ (\u001b[38;5;45mNone\u001b[0m, \u001b[38;5;34m24\u001b[0m)             │           \u001b[38;5;34m408\u001b[0m │\n",
              "├─────────────────────────────────┼────────────────────────┼───────────────┤\n",
              "│ dense_3 (\u001b[38;5;33mDense\u001b[0m)                 │ (\u001b[38;5;45mNone\u001b[0m, \u001b[38;5;34m1\u001b[0m)              │            \u001b[38;5;34m25\u001b[0m │\n",
              "└─────────────────────────────────┴────────────────────────┴───────────────┘\n"
            ],
            "text/html": [
              "<pre style=\"white-space:pre;overflow-x:auto;line-height:normal;font-family:Menlo,'DejaVu Sans Mono',consolas,'Courier New',monospace\">┏━━━━━━━━━━━━━━━━━━━━━━━━━━━━━━━━━┳━━━━━━━━━━━━━━━━━━━━━━━━┳━━━━━━━━━━━━━━━┓\n",
              "┃<span style=\"font-weight: bold\"> Layer (type)                    </span>┃<span style=\"font-weight: bold\"> Output Shape           </span>┃<span style=\"font-weight: bold\">       Param # </span>┃\n",
              "┡━━━━━━━━━━━━━━━━━━━━━━━━━━━━━━━━━╇━━━━━━━━━━━━━━━━━━━━━━━━╇━━━━━━━━━━━━━━━┩\n",
              "│ embedding_1 (<span style=\"color: #0087ff; text-decoration-color: #0087ff\">Embedding</span>)         │ (<span style=\"color: #00d7ff; text-decoration-color: #00d7ff\">None</span>, <span style=\"color: #00af00; text-decoration-color: #00af00\">100</span>, <span style=\"color: #00af00; text-decoration-color: #00af00\">16</span>)        │       <span style=\"color: #00af00; text-decoration-color: #00af00\">160,000</span> │\n",
              "├─────────────────────────────────┼────────────────────────┼───────────────┤\n",
              "│ global_average_pooling1d_1      │ (<span style=\"color: #00d7ff; text-decoration-color: #00d7ff\">None</span>, <span style=\"color: #00af00; text-decoration-color: #00af00\">16</span>)             │             <span style=\"color: #00af00; text-decoration-color: #00af00\">0</span> │\n",
              "│ (<span style=\"color: #0087ff; text-decoration-color: #0087ff\">GlobalAveragePooling1D</span>)        │                        │               │\n",
              "├─────────────────────────────────┼────────────────────────┼───────────────┤\n",
              "│ dense_2 (<span style=\"color: #0087ff; text-decoration-color: #0087ff\">Dense</span>)                 │ (<span style=\"color: #00d7ff; text-decoration-color: #00d7ff\">None</span>, <span style=\"color: #00af00; text-decoration-color: #00af00\">24</span>)             │           <span style=\"color: #00af00; text-decoration-color: #00af00\">408</span> │\n",
              "├─────────────────────────────────┼────────────────────────┼───────────────┤\n",
              "│ dense_3 (<span style=\"color: #0087ff; text-decoration-color: #0087ff\">Dense</span>)                 │ (<span style=\"color: #00d7ff; text-decoration-color: #00d7ff\">None</span>, <span style=\"color: #00af00; text-decoration-color: #00af00\">1</span>)              │            <span style=\"color: #00af00; text-decoration-color: #00af00\">25</span> │\n",
              "└─────────────────────────────────┴────────────────────────┴───────────────┘\n",
              "</pre>\n"
            ]
          },
          "metadata": {}
        },
        {
          "output_type": "display_data",
          "data": {
            "text/plain": [
              "\u001b[1m Total params: \u001b[0m\u001b[38;5;34m160,433\u001b[0m (626.69 KB)\n"
            ],
            "text/html": [
              "<pre style=\"white-space:pre;overflow-x:auto;line-height:normal;font-family:Menlo,'DejaVu Sans Mono',consolas,'Courier New',monospace\"><span style=\"font-weight: bold\"> Total params: </span><span style=\"color: #00af00; text-decoration-color: #00af00\">160,433</span> (626.69 KB)\n",
              "</pre>\n"
            ]
          },
          "metadata": {}
        },
        {
          "output_type": "display_data",
          "data": {
            "text/plain": [
              "\u001b[1m Trainable params: \u001b[0m\u001b[38;5;34m160,433\u001b[0m (626.69 KB)\n"
            ],
            "text/html": [
              "<pre style=\"white-space:pre;overflow-x:auto;line-height:normal;font-family:Menlo,'DejaVu Sans Mono',consolas,'Courier New',monospace\"><span style=\"font-weight: bold\"> Trainable params: </span><span style=\"color: #00af00; text-decoration-color: #00af00\">160,433</span> (626.69 KB)\n",
              "</pre>\n"
            ]
          },
          "metadata": {}
        },
        {
          "output_type": "display_data",
          "data": {
            "text/plain": [
              "\u001b[1m Non-trainable params: \u001b[0m\u001b[38;5;34m0\u001b[0m (0.00 B)\n"
            ],
            "text/html": [
              "<pre style=\"white-space:pre;overflow-x:auto;line-height:normal;font-family:Menlo,'DejaVu Sans Mono',consolas,'Courier New',monospace\"><span style=\"font-weight: bold\"> Non-trainable params: </span><span style=\"color: #00af00; text-decoration-color: #00af00\">0</span> (0.00 B)\n",
              "</pre>\n"
            ]
          },
          "metadata": {}
        }
      ]
    },
    {
      "cell_type": "code",
      "source": [
        "# Train the Model\n",
        "history = model.fit(traning_padded, traning_labels, epochs=30, validation_data=(testing_padded, testing_labels), verbose=2)\n",
        "\n",
        "# Evaluate the Model\n",
        "loss, accuracy = model.evaluate(testing_padded, testing_labels, verbose=2)\n",
        "print(f\"Test Loss: {loss:.4f}\")\n",
        "print(f\"Test Accuracy: {accuracy:.4f}\")\n"
      ],
      "metadata": {
        "colab": {
          "base_uri": "https://localhost:8080/"
        },
        "id": "gCjuYAS57l26",
        "outputId": "9206a411-6ff2-4a99-cf08-603dd40337fc"
      },
      "execution_count": 24,
      "outputs": [
        {
          "output_type": "stream",
          "name": "stdout",
          "text": [
            "Epoch 1/30\n",
            "668/668 - 4s - 6ms/step - accuracy: 0.9199 - loss: 0.2047 - val_accuracy: 0.8480 - val_loss: 0.3500\n",
            "Epoch 2/30\n",
            "668/668 - 5s - 8ms/step - accuracy: 0.9235 - loss: 0.1981 - val_accuracy: 0.8478 - val_loss: 0.3702\n",
            "Epoch 3/30\n",
            "668/668 - 3s - 5ms/step - accuracy: 0.9286 - loss: 0.1855 - val_accuracy: 0.8480 - val_loss: 0.3720\n",
            "Epoch 4/30\n",
            "668/668 - 3s - 4ms/step - accuracy: 0.9276 - loss: 0.1792 - val_accuracy: 0.8521 - val_loss: 0.3535\n",
            "Epoch 5/30\n",
            "668/668 - 6s - 9ms/step - accuracy: 0.9376 - loss: 0.1659 - val_accuracy: 0.8282 - val_loss: 0.4338\n",
            "Epoch 6/30\n",
            "668/668 - 3s - 5ms/step - accuracy: 0.9403 - loss: 0.1608 - val_accuracy: 0.8540 - val_loss: 0.3675\n",
            "Epoch 7/30\n",
            "668/668 - 5s - 8ms/step - accuracy: 0.9361 - loss: 0.1607 - val_accuracy: 0.8514 - val_loss: 0.3844\n",
            "Epoch 8/30\n",
            "668/668 - 5s - 7ms/step - accuracy: 0.9429 - loss: 0.1501 - val_accuracy: 0.8448 - val_loss: 0.4139\n",
            "Epoch 9/30\n",
            "668/668 - 3s - 5ms/step - accuracy: 0.9438 - loss: 0.1497 - val_accuracy: 0.8428 - val_loss: 0.4045\n",
            "Epoch 10/30\n",
            "668/668 - 3s - 4ms/step - accuracy: 0.9462 - loss: 0.1401 - val_accuracy: 0.8512 - val_loss: 0.4017\n",
            "Epoch 11/30\n",
            "668/668 - 4s - 6ms/step - accuracy: 0.9450 - loss: 0.1412 - val_accuracy: 0.8467 - val_loss: 0.4143\n",
            "Epoch 12/30\n",
            "668/668 - 4s - 5ms/step - accuracy: 0.9480 - loss: 0.1365 - val_accuracy: 0.8478 - val_loss: 0.4182\n",
            "Epoch 13/30\n",
            "668/668 - 5s - 7ms/step - accuracy: 0.9504 - loss: 0.1292 - val_accuracy: 0.8401 - val_loss: 0.4439\n",
            "Epoch 14/30\n",
            "668/668 - 4s - 5ms/step - accuracy: 0.9509 - loss: 0.1264 - val_accuracy: 0.8487 - val_loss: 0.4358\n",
            "Epoch 15/30\n",
            "668/668 - 5s - 7ms/step - accuracy: 0.9522 - loss: 0.1248 - val_accuracy: 0.8351 - val_loss: 0.4869\n",
            "Epoch 16/30\n",
            "668/668 - 3s - 5ms/step - accuracy: 0.9515 - loss: 0.1247 - val_accuracy: 0.8341 - val_loss: 0.4988\n",
            "Epoch 17/30\n",
            "668/668 - 6s - 10ms/step - accuracy: 0.9554 - loss: 0.1178 - val_accuracy: 0.8411 - val_loss: 0.4699\n",
            "Epoch 18/30\n",
            "668/668 - 3s - 5ms/step - accuracy: 0.9603 - loss: 0.1060 - val_accuracy: 0.8407 - val_loss: 0.4873\n",
            "Epoch 19/30\n",
            "668/668 - 5s - 8ms/step - accuracy: 0.9575 - loss: 0.1125 - val_accuracy: 0.8377 - val_loss: 0.5082\n",
            "Epoch 20/30\n",
            "668/668 - 6s - 9ms/step - accuracy: 0.9620 - loss: 0.1038 - val_accuracy: 0.8420 - val_loss: 0.5000\n",
            "Epoch 21/30\n",
            "668/668 - 4s - 7ms/step - accuracy: 0.9630 - loss: 0.1021 - val_accuracy: 0.8405 - val_loss: 0.5113\n",
            "Epoch 22/30\n",
            "668/668 - 3s - 5ms/step - accuracy: 0.9600 - loss: 0.1062 - val_accuracy: 0.8375 - val_loss: 0.5305\n",
            "Epoch 23/30\n",
            "668/668 - 5s - 8ms/step - accuracy: 0.9622 - loss: 0.1002 - val_accuracy: 0.8394 - val_loss: 0.5350\n",
            "Epoch 24/30\n",
            "668/668 - 5s - 8ms/step - accuracy: 0.9593 - loss: 0.1062 - val_accuracy: 0.8358 - val_loss: 0.5366\n",
            "Epoch 25/30\n",
            "668/668 - 6s - 9ms/step - accuracy: 0.9645 - loss: 0.0941 - val_accuracy: 0.8244 - val_loss: 0.5949\n",
            "Epoch 26/30\n",
            "668/668 - 4s - 6ms/step - accuracy: 0.9664 - loss: 0.0914 - val_accuracy: 0.8317 - val_loss: 0.5999\n",
            "Epoch 27/30\n",
            "668/668 - 6s - 9ms/step - accuracy: 0.9596 - loss: 0.1039 - val_accuracy: 0.8368 - val_loss: 0.5669\n",
            "Epoch 28/30\n",
            "668/668 - 4s - 5ms/step - accuracy: 0.9699 - loss: 0.0829 - val_accuracy: 0.8212 - val_loss: 0.6748\n",
            "Epoch 29/30\n",
            "668/668 - 5s - 7ms/step - accuracy: 0.9678 - loss: 0.0891 - val_accuracy: 0.8338 - val_loss: 0.5875\n",
            "Epoch 30/30\n",
            "668/668 - 6s - 9ms/step - accuracy: 0.9709 - loss: 0.0815 - val_accuracy: 0.8302 - val_loss: 0.6055\n",
            "167/167 - 0s - 2ms/step - accuracy: 0.8302 - loss: 0.6055\n",
            "Test Loss: 0.6055\n",
            "Test Accuracy: 0.8302\n"
          ]
        }
      ]
    },
    {
      "cell_type": "code",
      "source": [
        "\n",
        "# Function to interpret probability into descriptive categories\n",
        "def interpret_sarcasm_probability(probability):\n",
        "    if probability >= 0.9:\n",
        "        return \"Highly Sarcastic\"\n",
        "    elif probability >= 0.7:\n",
        "        return \"Moderately Sarcastic\"\n",
        "    elif probability >= 0.5:\n",
        "        return \"Potentially Sarcastic\"\n",
        "    elif probability >= 0.2:\n",
        "        return \"Low Sarcasm\"\n",
        "    else:\n",
        "        return \"Not Sarcastic\"\n",
        "\n",
        "# testing the model\n",
        "new_sentences = [\n",
        "    \"I am myself a king of my state\",\n",
        "    \"Code was shared in mail or in this chat?\",\n",
        "    \"Data engineering is better then data science\",\n",
        "    \"My Friend is going to loose\",\n",
        "    \"game of thrones season finale showing this sunday\",\n",
        "    \"top snake handler leaves sinking huckabee campaign\t\"\n",
        "]\n",
        "\n",
        "# Convert raw new sentences to sequences using the trained tokenizer\n",
        "new_sequences = tokenizer.texts_to_sequences(new_sentences)\n",
        "\n",
        "# Pad the new sequences\n",
        "new_padded = pad_sequences(new_sequences, maxlen=max_length, padding=padding_type, truncating=trunc_type)\n",
        "\n",
        "# Make predictions\n",
        "raw_predictions = model.predict(new_padded)\n",
        "\n",
        "for i, sentence_original in enumerate(new_sentences):\n",
        "    probability = raw_predictions[i][0]\n",
        "    descriptive_status = interpret_sarcasm_probability(probability)\n",
        "\n",
        "    print(f\"Original: '{sentence_original}'\")\n",
        "    print(f\"Probability of Sarcasm: {probability:.4f}\")\n",
        "    print(f\"Sarcasm Level: {descriptive_status}\")\n",
        "    print(\"-\" * 40)"
      ],
      "metadata": {
        "colab": {
          "base_uri": "https://localhost:8080/"
        },
        "id": "-2eN-AcfNqaw",
        "outputId": "cfecd184-7239-4b9c-e880-d6ed4f83d168"
      },
      "execution_count": 29,
      "outputs": [
        {
          "output_type": "stream",
          "name": "stdout",
          "text": [
            "\u001b[1m1/1\u001b[0m \u001b[32m━━━━━━━━━━━━━━━━━━━━\u001b[0m\u001b[37m\u001b[0m \u001b[1m0s\u001b[0m 94ms/step\n",
            "Original: 'I am myself a king of my state'\n",
            "Probability of Sarcasm: 0.0037\n",
            "Sarcasm Level: Not Sarcastic\n",
            "----------------------------------------\n",
            "Original: 'Code was shared in mail or in this chat?'\n",
            "Probability of Sarcasm: 0.0001\n",
            "Sarcasm Level: Not Sarcastic\n",
            "----------------------------------------\n",
            "Original: 'Data engineering is better then data science'\n",
            "Probability of Sarcasm: 0.0000\n",
            "Sarcasm Level: Not Sarcastic\n",
            "----------------------------------------\n",
            "Original: 'My Friend is going to loose'\n",
            "Probability of Sarcasm: 0.9616\n",
            "Sarcasm Level: Highly Sarcastic\n",
            "----------------------------------------\n",
            "Original: 'game of thrones season finale showing this sunday'\n",
            "Probability of Sarcasm: 0.0569\n",
            "Sarcasm Level: Not Sarcastic\n",
            "----------------------------------------\n",
            "Original: 'top snake handler leaves sinking huckabee campaign\t'\n",
            "Probability of Sarcasm: 0.9950\n",
            "Sarcasm Level: Highly Sarcastic\n",
            "----------------------------------------\n"
          ]
        }
      ]
    }
  ]
}